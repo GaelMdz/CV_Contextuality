{
 "cells": [
  {
   "cell_type": "markdown",
   "id": "b1e7325b-675b-4bca-8ef9-24a67886707b",
   "metadata": {},
   "source": [
    "In this notebook we include the functions to export our SDP in a format that is readable by SDPA "
   ]
  },
  {
   "cell_type": "code",
   "execution_count": null,
   "id": "739d95d2-d0aa-4c3e-9f34-273dbf721055",
   "metadata": {},
   "outputs": [],
   "source": []
  }
 ],
 "metadata": {
  "kernelspec": {
   "display_name": "Python 3 (ipykernel)",
   "language": "python",
   "name": "python3"
  },
  "language_info": {
   "codemirror_mode": {
    "name": "ipython",
    "version": 3
   },
   "file_extension": ".py",
   "mimetype": "text/x-python",
   "name": "python",
   "nbconvert_exporter": "python",
   "pygments_lexer": "ipython3",
   "version": "3.12.0"
  }
 },
 "nbformat": 4,
 "nbformat_minor": 5
}
